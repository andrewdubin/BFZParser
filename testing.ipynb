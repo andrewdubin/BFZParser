{
 "cells": [
  {
   "cell_type": "code",
   "execution_count": 1,
   "metadata": {},
   "outputs": [],
   "source": [
    "import pandas as pd\n",
    "import numpy as np"
   ]
  },
  {
   "cell_type": "code",
   "execution_count": 2,
   "metadata": {},
   "outputs": [
    {
     "data": {
      "text/html": [
       "<div>\n",
       "<style scoped>\n",
       "    .dataframe tbody tr th:only-of-type {\n",
       "        vertical-align: middle;\n",
       "    }\n",
       "\n",
       "    .dataframe tbody tr th {\n",
       "        vertical-align: top;\n",
       "    }\n",
       "\n",
       "    .dataframe thead th {\n",
       "        text-align: right;\n",
       "    }\n",
       "</style>\n",
       "<table border=\"1\" class=\"dataframe\">\n",
       "  <thead>\n",
       "    <tr style=\"text-align: right;\">\n",
       "      <th></th>\n",
       "      <th>Client ID</th>\n",
       "      <th>Program Name</th>\n",
       "      <th>Veteran Status</th>\n",
       "      <th>Date of Identification</th>\n",
       "      <th>Program End Date</th>\n",
       "      <th>Dismissal Reason</th>\n",
       "    </tr>\n",
       "  </thead>\n",
       "  <tbody>\n",
       "    <tr>\n",
       "      <th>442</th>\n",
       "      <td>52797</td>\n",
       "      <td>Arlington Zero: Chronic - Veterans Only</td>\n",
       "      <td>No</td>\n",
       "      <td>2021-07-14</td>\n",
       "      <td>NaT</td>\n",
       "      <td>NaN</td>\n",
       "    </tr>\n",
       "    <tr>\n",
       "      <th>443</th>\n",
       "      <td>52736</td>\n",
       "      <td>Arlington Zero: TAY</td>\n",
       "      <td>No</td>\n",
       "      <td>2021-04-07</td>\n",
       "      <td>NaT</td>\n",
       "      <td>NaN</td>\n",
       "    </tr>\n",
       "    <tr>\n",
       "      <th>444</th>\n",
       "      <td>51972</td>\n",
       "      <td>Arlington Zero: Single Adults</td>\n",
       "      <td>No</td>\n",
       "      <td>2021-07-11</td>\n",
       "      <td>NaT</td>\n",
       "      <td>NaN</td>\n",
       "    </tr>\n",
       "    <tr>\n",
       "      <th>445</th>\n",
       "      <td>53437</td>\n",
       "      <td>Arlington Zero: TAY</td>\n",
       "      <td>No</td>\n",
       "      <td>2021-09-09</td>\n",
       "      <td>NaT</td>\n",
       "      <td>NaN</td>\n",
       "    </tr>\n",
       "    <tr>\n",
       "      <th>446</th>\n",
       "      <td>52924</td>\n",
       "      <td>Arlington Zero: Chronic - Veterans Only</td>\n",
       "      <td>No</td>\n",
       "      <td>2021-09-20</td>\n",
       "      <td>NaT</td>\n",
       "      <td>NaN</td>\n",
       "    </tr>\n",
       "  </tbody>\n",
       "</table>\n",
       "</div>"
      ],
      "text/plain": [
       "     Client ID                             Program Name Veteran Status  \\\n",
       "442      52797  Arlington Zero: Chronic - Veterans Only             No   \n",
       "443      52736                      Arlington Zero: TAY             No   \n",
       "444      51972            Arlington Zero: Single Adults             No   \n",
       "445      53437                      Arlington Zero: TAY             No   \n",
       "446      52924  Arlington Zero: Chronic - Veterans Only             No   \n",
       "\n",
       "    Date of Identification Program End Date Dismissal Reason  \n",
       "442             2021-07-14              NaT              NaN  \n",
       "443             2021-04-07              NaT              NaN  \n",
       "444             2021-07-11              NaT              NaN  \n",
       "445             2021-09-09              NaT              NaN  \n",
       "446             2021-09-20              NaT              NaN  "
      ]
     },
     "execution_count": 2,
     "metadata": {},
     "output_type": "execute_result"
    }
   ],
   "source": [
    "#Step 1: Import document, Change Program Start Date to Date of Identification\n",
    "df = pd.read_csv(\"BFZ_2_14_22.csv\",parse_dates=['Program Start Date','Program End Date'])\n",
    "df = df.rename(columns={\"Program Start Date\":\"Date of Identification\",'Case Number':'Client ID','Veteran Status (HUD)':'Veteran Status'})\n",
    "df = df.drop([\"Relationship\",\"Family Name\",'Name'],axis=1)\n",
    "df = df.drop_duplicates()\n",
    "df = df.reset_index()\n",
    "df = df.drop(['index'],axis=1)\n",
    "# df.index.name = 'Index'\n",
    "df.tail()"
   ]
  },
  {
   "cell_type": "code",
   "execution_count": 3,
   "metadata": {},
   "outputs": [
    {
     "data": {
      "text/plain": [
       "Single Adults    405\n",
       "Family            37\n",
       "Youth              5\n",
       "Name: Household Type, dtype: int64"
      ]
     },
     "execution_count": 3,
     "metadata": {},
     "output_type": "execute_result"
    }
   ],
   "source": [
    "#Step 2: Adding Household Type Column\n",
    "household_type = {\"Arlington Zero: Chronic - Veterans Only\":\"Single Adults\",\n",
    "\"Arlington Zero: Single Adults\":\"Single Adults\",\n",
    "\"Arlington Zero: Families\":\"Family\",\n",
    "\"Arlington Zero: TAY\":\"Youth\"}\n",
    "df['Household Type'] = df['Program Name'].map(household_type)\n",
    "df['Household Type'].value_counts()"
   ]
  },
  {
   "cell_type": "code",
   "execution_count": 4,
   "metadata": {},
   "outputs": [
    {
     "data": {
      "text/plain": [
       "1    369\n",
       "2     66\n",
       "3     12\n",
       "Name: Client ID Household Counter, dtype: int64"
      ]
     },
     "execution_count": 4,
     "metadata": {},
     "output_type": "execute_result"
    }
   ],
   "source": [
    "#Step 3: Adding Client ID Counter and Client ID Household Counter\n",
    "#Client ID Counter\n",
    "df['Client ID Counter'] = df['Client ID'].map(df.groupby('Client ID').agg({'Client ID':'count'})['Client ID'])\n",
    "#Client ID Household Counter\n",
    "counter = {}\n",
    "for i in df['Client ID']:\n",
    "    if i not in counter:\n",
    "        counter[i] = {\"Single Adults\":0,\"Family\":0,\"Youth\":0}\n",
    "for j in counter:\n",
    "    for k in df[df['Client ID']==j]['Household Type']:\n",
    "        counter[j][k] += 1\n",
    "df['Client ID Household Counter'] = np.nan\n",
    "for i in df.index:\n",
    "    df.loc[i,'Client ID Household Counter'] = counter[df.loc[i,'Client ID']][df.loc[i,'Household Type']]\n",
    "df['Client ID Household Counter'] = df['Client ID Household Counter'].apply(int)\n",
    "df['Client ID Household Counter'].value_counts()"
   ]
  },
  {
   "cell_type": "code",
   "execution_count": 5,
   "metadata": {},
   "outputs": [
    {
     "data": {
      "text/plain": [
       "Yes    226\n",
       "Name: Chronic Status, dtype: int64"
      ]
     },
     "execution_count": 5,
     "metadata": {},
     "output_type": "execute_result"
    }
   ],
   "source": [
    "#Step 4: Adding Chronic Column\n",
    "#If client is in Chronic & Vet and 'No' to Veteran Status, then they are chronic\n",
    "df['Chronic Status'] = np.nan\n",
    "df.loc[(df['Program Name']==\"Arlington Zero: Chronic - Veterans Only\") & (df['Veteran Status']==\"No\")\n",
    ",\"Chronic Status\"] = \"Yes\"\n",
    "df['Chronic Status'].value_counts()"
   ]
  },
  {
   "cell_type": "code",
   "execution_count": 6,
   "metadata": {},
   "outputs": [
    {
     "data": {
      "text/plain": [
       "Housed                                 262\n",
       "No longer meets population criteria     44\n",
       "Inactive                                34\n",
       "Name: Dismissal Reason, dtype: int64"
      ]
     },
     "execution_count": 6,
     "metadata": {},
     "output_type": "execute_result"
    }
   ],
   "source": [
    "#Step 5, remap all dismissal reasons\n",
    "from values import dismissal\n",
    "df['Dismissal Reason'] = df['Dismissal Reason'].map(dismissal)\n",
    "df['Dismissal Reason'].value_counts()"
   ]
  },
  {
   "cell_type": "code",
   "execution_count": 7,
   "metadata": {},
   "outputs": [
    {
     "data": {
      "text/html": [
       "<div>\n",
       "<style scoped>\n",
       "    .dataframe tbody tr th:only-of-type {\n",
       "        vertical-align: middle;\n",
       "    }\n",
       "\n",
       "    .dataframe tbody tr th {\n",
       "        vertical-align: top;\n",
       "    }\n",
       "\n",
       "    .dataframe thead th {\n",
       "        text-align: right;\n",
       "    }\n",
       "</style>\n",
       "<table border=\"1\" class=\"dataframe\">\n",
       "  <thead>\n",
       "    <tr style=\"text-align: right;\">\n",
       "      <th></th>\n",
       "      <th>Client ID</th>\n",
       "      <th>Program Name</th>\n",
       "      <th>Veteran Status</th>\n",
       "      <th>Date of Identification</th>\n",
       "      <th>Program End Date</th>\n",
       "      <th>Dismissal Reason</th>\n",
       "      <th>Household Type</th>\n",
       "      <th>Client ID Counter</th>\n",
       "      <th>Client ID Household Counter</th>\n",
       "      <th>Chronic Status</th>\n",
       "      <th>Housing Move-In Date</th>\n",
       "    </tr>\n",
       "  </thead>\n",
       "  <tbody>\n",
       "    <tr>\n",
       "      <th>0</th>\n",
       "      <td>8563</td>\n",
       "      <td>Arlington Zero: Chronic - Veterans Only</td>\n",
       "      <td>No</td>\n",
       "      <td>2016-11-30</td>\n",
       "      <td>2017-02-27</td>\n",
       "      <td>No longer meets population criteria</td>\n",
       "      <td>Single Adults</td>\n",
       "      <td>3</td>\n",
       "      <td>3</td>\n",
       "      <td>Yes</td>\n",
       "      <td>NaT</td>\n",
       "    </tr>\n",
       "    <tr>\n",
       "      <th>1</th>\n",
       "      <td>8563</td>\n",
       "      <td>Arlington Zero: Chronic - Veterans Only</td>\n",
       "      <td>No</td>\n",
       "      <td>2015-10-15</td>\n",
       "      <td>2016-03-29</td>\n",
       "      <td>No longer meets population criteria</td>\n",
       "      <td>Single Adults</td>\n",
       "      <td>3</td>\n",
       "      <td>3</td>\n",
       "      <td>Yes</td>\n",
       "      <td>NaT</td>\n",
       "    </tr>\n",
       "    <tr>\n",
       "      <th>2</th>\n",
       "      <td>8563</td>\n",
       "      <td>Arlington Zero: Chronic - Veterans Only</td>\n",
       "      <td>No</td>\n",
       "      <td>2017-09-19</td>\n",
       "      <td>2018-06-30</td>\n",
       "      <td>NaN</td>\n",
       "      <td>Single Adults</td>\n",
       "      <td>3</td>\n",
       "      <td>3</td>\n",
       "      <td>Yes</td>\n",
       "      <td>NaT</td>\n",
       "    </tr>\n",
       "    <tr>\n",
       "      <th>3</th>\n",
       "      <td>38096</td>\n",
       "      <td>Arlington Zero: Single Adults</td>\n",
       "      <td>No</td>\n",
       "      <td>2021-05-03</td>\n",
       "      <td>2021-09-02</td>\n",
       "      <td>Housed</td>\n",
       "      <td>Single Adults</td>\n",
       "      <td>1</td>\n",
       "      <td>1</td>\n",
       "      <td>NaN</td>\n",
       "      <td>2021-09-02</td>\n",
       "    </tr>\n",
       "    <tr>\n",
       "      <th>4</th>\n",
       "      <td>7273</td>\n",
       "      <td>Arlington Zero: Chronic - Veterans Only</td>\n",
       "      <td>No</td>\n",
       "      <td>2015-09-25</td>\n",
       "      <td>2016-06-29</td>\n",
       "      <td>No longer meets population criteria</td>\n",
       "      <td>Single Adults</td>\n",
       "      <td>1</td>\n",
       "      <td>1</td>\n",
       "      <td>Yes</td>\n",
       "      <td>NaT</td>\n",
       "    </tr>\n",
       "  </tbody>\n",
       "</table>\n",
       "</div>"
      ],
      "text/plain": [
       "   Client ID                             Program Name Veteran Status  \\\n",
       "0       8563  Arlington Zero: Chronic - Veterans Only             No   \n",
       "1       8563  Arlington Zero: Chronic - Veterans Only             No   \n",
       "2       8563  Arlington Zero: Chronic - Veterans Only             No   \n",
       "3      38096            Arlington Zero: Single Adults             No   \n",
       "4       7273  Arlington Zero: Chronic - Veterans Only             No   \n",
       "\n",
       "  Date of Identification Program End Date  \\\n",
       "0             2016-11-30       2017-02-27   \n",
       "1             2015-10-15       2016-03-29   \n",
       "2             2017-09-19       2018-06-30   \n",
       "3             2021-05-03       2021-09-02   \n",
       "4             2015-09-25       2016-06-29   \n",
       "\n",
       "                      Dismissal Reason Household Type  Client ID Counter  \\\n",
       "0  No longer meets population criteria  Single Adults                  3   \n",
       "1  No longer meets population criteria  Single Adults                  3   \n",
       "2                                  NaN  Single Adults                  3   \n",
       "3                               Housed  Single Adults                  1   \n",
       "4  No longer meets population criteria  Single Adults                  1   \n",
       "\n",
       "   Client ID Household Counter Chronic Status Housing Move-In Date  \n",
       "0                            3            Yes                  NaT  \n",
       "1                            3            Yes                  NaT  \n",
       "2                            3            Yes                  NaT  \n",
       "3                            1            NaN           2021-09-02  \n",
       "4                            1            Yes                  NaT  "
      ]
     },
     "execution_count": 7,
     "metadata": {},
     "output_type": "execute_result"
    }
   ],
   "source": [
    "#Step 6, Populate Housing Move-In Date\n",
    "df['Housing Move-In Date'] = df[\"Program End Date\"][df[\"Dismissal Reason\"]==\"Housed\"]\n",
    "df.head()"
   ]
  },
  {
   "cell_type": "code",
   "execution_count": 8,
   "metadata": {},
   "outputs": [
    {
     "data": {
      "text/html": [
       "<div>\n",
       "<style scoped>\n",
       "    .dataframe tbody tr th:only-of-type {\n",
       "        vertical-align: middle;\n",
       "    }\n",
       "\n",
       "    .dataframe tbody tr th {\n",
       "        vertical-align: top;\n",
       "    }\n",
       "\n",
       "    .dataframe thead th {\n",
       "        text-align: right;\n",
       "    }\n",
       "</style>\n",
       "<table border=\"1\" class=\"dataframe\">\n",
       "  <thead>\n",
       "    <tr style=\"text-align: right;\">\n",
       "      <th></th>\n",
       "      <th>Client ID</th>\n",
       "      <th>Program Name</th>\n",
       "      <th>Veteran Status</th>\n",
       "      <th>Date of Identification</th>\n",
       "      <th>Program End Date</th>\n",
       "      <th>Dismissal Reason</th>\n",
       "      <th>Household Type</th>\n",
       "      <th>Client ID Counter</th>\n",
       "      <th>Client ID Household Counter</th>\n",
       "      <th>Chronic Status</th>\n",
       "      <th>Housing Move-In Date</th>\n",
       "      <th>Inactive Date</th>\n",
       "    </tr>\n",
       "  </thead>\n",
       "  <tbody>\n",
       "    <tr>\n",
       "      <th>0</th>\n",
       "      <td>8563</td>\n",
       "      <td>Arlington Zero: Chronic - Veterans Only</td>\n",
       "      <td>No</td>\n",
       "      <td>2016-11-30</td>\n",
       "      <td>2017-02-27</td>\n",
       "      <td>No longer meets population criteria</td>\n",
       "      <td>Single Adults</td>\n",
       "      <td>3</td>\n",
       "      <td>3</td>\n",
       "      <td>Yes</td>\n",
       "      <td>NaT</td>\n",
       "      <td>NaT</td>\n",
       "    </tr>\n",
       "    <tr>\n",
       "      <th>1</th>\n",
       "      <td>8563</td>\n",
       "      <td>Arlington Zero: Chronic - Veterans Only</td>\n",
       "      <td>No</td>\n",
       "      <td>2015-10-15</td>\n",
       "      <td>2016-03-29</td>\n",
       "      <td>No longer meets population criteria</td>\n",
       "      <td>Single Adults</td>\n",
       "      <td>3</td>\n",
       "      <td>3</td>\n",
       "      <td>Yes</td>\n",
       "      <td>NaT</td>\n",
       "      <td>NaT</td>\n",
       "    </tr>\n",
       "    <tr>\n",
       "      <th>2</th>\n",
       "      <td>8563</td>\n",
       "      <td>Arlington Zero: Chronic - Veterans Only</td>\n",
       "      <td>No</td>\n",
       "      <td>2017-09-19</td>\n",
       "      <td>2018-06-30</td>\n",
       "      <td>NaN</td>\n",
       "      <td>Single Adults</td>\n",
       "      <td>3</td>\n",
       "      <td>3</td>\n",
       "      <td>Yes</td>\n",
       "      <td>NaT</td>\n",
       "      <td>NaT</td>\n",
       "    </tr>\n",
       "    <tr>\n",
       "      <th>3</th>\n",
       "      <td>38096</td>\n",
       "      <td>Arlington Zero: Single Adults</td>\n",
       "      <td>No</td>\n",
       "      <td>2021-05-03</td>\n",
       "      <td>2021-09-02</td>\n",
       "      <td>Housed</td>\n",
       "      <td>Single Adults</td>\n",
       "      <td>1</td>\n",
       "      <td>1</td>\n",
       "      <td>NaN</td>\n",
       "      <td>2021-09-02</td>\n",
       "      <td>NaT</td>\n",
       "    </tr>\n",
       "    <tr>\n",
       "      <th>4</th>\n",
       "      <td>7273</td>\n",
       "      <td>Arlington Zero: Chronic - Veterans Only</td>\n",
       "      <td>No</td>\n",
       "      <td>2015-09-25</td>\n",
       "      <td>2016-06-29</td>\n",
       "      <td>No longer meets population criteria</td>\n",
       "      <td>Single Adults</td>\n",
       "      <td>1</td>\n",
       "      <td>1</td>\n",
       "      <td>Yes</td>\n",
       "      <td>NaT</td>\n",
       "      <td>NaT</td>\n",
       "    </tr>\n",
       "  </tbody>\n",
       "</table>\n",
       "</div>"
      ],
      "text/plain": [
       "   Client ID                             Program Name Veteran Status  \\\n",
       "0       8563  Arlington Zero: Chronic - Veterans Only             No   \n",
       "1       8563  Arlington Zero: Chronic - Veterans Only             No   \n",
       "2       8563  Arlington Zero: Chronic - Veterans Only             No   \n",
       "3      38096            Arlington Zero: Single Adults             No   \n",
       "4       7273  Arlington Zero: Chronic - Veterans Only             No   \n",
       "\n",
       "  Date of Identification Program End Date  \\\n",
       "0             2016-11-30       2017-02-27   \n",
       "1             2015-10-15       2016-03-29   \n",
       "2             2017-09-19       2018-06-30   \n",
       "3             2021-05-03       2021-09-02   \n",
       "4             2015-09-25       2016-06-29   \n",
       "\n",
       "                      Dismissal Reason Household Type  Client ID Counter  \\\n",
       "0  No longer meets population criteria  Single Adults                  3   \n",
       "1  No longer meets population criteria  Single Adults                  3   \n",
       "2                                  NaN  Single Adults                  3   \n",
       "3                               Housed  Single Adults                  1   \n",
       "4  No longer meets population criteria  Single Adults                  1   \n",
       "\n",
       "   Client ID Household Counter Chronic Status Housing Move-In Date  \\\n",
       "0                            3            Yes                  NaT   \n",
       "1                            3            Yes                  NaT   \n",
       "2                            3            Yes                  NaT   \n",
       "3                            1            NaN           2021-09-02   \n",
       "4                            1            Yes                  NaT   \n",
       "\n",
       "  Inactive Date  \n",
       "0           NaT  \n",
       "1           NaT  \n",
       "2           NaT  \n",
       "3           NaT  \n",
       "4           NaT  "
      ]
     },
     "execution_count": 8,
     "metadata": {},
     "output_type": "execute_result"
    }
   ],
   "source": [
    "#Step 7, Populate Inactive Date\n",
    "#Do we consider those with program end date and null dismissal reasons as inactive?\n",
    "df['Inactive Date'] = df['Program End Date'][df[\"Dismissal Reason\"]==\"Inactive\"]\n",
    "df.head()"
   ]
  },
  {
   "cell_type": "code",
   "execution_count": 9,
   "metadata": {},
   "outputs": [],
   "source": [
    "#Step 8, Calculate 1stDateofID, then calculate Returned to Active Date (Date of Idenfication on second record)\n",
    "#{FIXED [ClientID],[Household Type]: MIN([Date of Identification]) }\n",
    "#IF [NumRows_ClientID_HouseholdType]> 1 AND [1stDateofID] <> [Date of Identification] THEN [Date of Identification] ELSE NULL END\n",
    "#If [Household Type Case Counter]>1 AND [1stDateofID] != [Date of Identification] THEN [Date of Identification] ELSE np.nan\n",
    "df['1stDateofID'] = df['Client ID'].map(df.groupby('Client ID').agg({'Date of Identification':'min'})['Date of Identification'])\n",
    "df['Return to Active Date'] = np.nan\n",
    "df.loc[(df['Client ID Household Counter']>1) & (df['1stDateofID']!=df['Date of Identification'])\n",
    ",\"Return to Active Date\"] = df['Date of Identification']\n",
    "df['Return to Active Date'] = pd.to_datetime(df['Return to Active Date'])"
   ]
  },
  {
   "cell_type": "code",
   "execution_count": 10,
   "metadata": {},
   "outputs": [],
   "source": [
    "#Step 9, Calculate most recent move-in or inactive dates\n",
    "df['Most Recent Move-In Date'] = df['Client ID'].map(df.groupby('Client ID').agg({'Housing Move-In Date':'max'})['Housing Move-In Date'])\n",
    "df['Most Recent Inactive Date'] = df['Client ID'].map(df.groupby('Client ID').agg({'Inactive Date':'max'})['Inactive Date'])"
   ]
  },
  {
   "cell_type": "code",
   "execution_count": 11,
   "metadata": {},
   "outputs": [
    {
     "data": {
      "text/plain": [
       "43"
      ]
     },
     "execution_count": 11,
     "metadata": {},
     "output_type": "execute_result"
    }
   ],
   "source": [
    "#Step 10, Narrow down dataframe down to active clients and newly exited clients for the reporting month\n",
    "reporting_year = input(\"Reporting Year? Enter four digits: \")\n",
    "reporting_month = input(\"Reporting Month? Enter either proper string or number \")\n",
    "reporting_date = pd.to_datetime(reporting_year+reporting_month,format='%Y%m',errors='ignore')\n",
    "num_of_days = reporting_date.days_in_month\n",
    "dates = {}\n",
    "dates['Reporting Date'] = str(reporting_date.year)+'-'+ str(reporting_date.month) +'-'+ str(num_of_days)\n",
    "dates['Start Date'] = str(reporting_date.year)+'-'+ str(reporting_date.month) +'-1'\n",
    "\n",
    "active_df = df[(df['Date of Identification']<=dates['Reporting Date']) &\n",
    "((df['Program End Date'].isnull()==True) | (df['Program End Date']<df['Date of Identification']) | (df['Program End Date']>dates['Reporting Date']))]\n",
    "exited_df = df[(df['Program End Date']>=dates['Start Date']) & (df['Program End Date']<=dates['Reporting Date'])]\n",
    "filtered_df = pd.concat([active_df,exited_df])\n",
    "filtered_df = filtered_df.reset_index()\n",
    "filtered_df = filtered_df.drop(['index'],axis=1)\n",
    "len(filtered_df)"
   ]
  },
  {
   "cell_type": "code",
   "execution_count": 12,
   "metadata": {},
   "outputs": [
    {
     "name": "stdout",
     "output_type": "stream",
     "text": [
      "How many clients this month No longer meet population criteria?\n",
      "All clients  4\n",
      "Singles  4\n",
      "Veterans  1\n",
      "Chronic  2\n",
      "Chronic Veterans  0\n",
      "Youth  0\n",
      "Families  0\n"
     ]
    }
   ],
   "source": [
    "#Step 11, Determine clients that \"No longer meets population criteria\" by demographic info\n",
    "#All persons, all singles, veterans, chronic, chronic veteran, youth, families\n",
    "print(\"How many clients this month No longer meet population criteria?\")\n",
    "print(\"All clients \",filtered_df['Dismissal Reason'].where(filtered_df['Dismissal Reason']==\"No longer meets population criteria\").count())\n",
    "print(\"Singles \",filtered_df['Dismissal Reason'].where((filtered_df['Dismissal Reason']==\"No longer meets population criteria\")&(filtered_df['Household Type']=='Single Adults')).count())\n",
    "print(\"Veterans \",filtered_df['Dismissal Reason'].where((filtered_df['Dismissal Reason']==\"No longer meets population criteria\")&(filtered_df['Veteran Status']=='Yes')).count())\n",
    "print(\"Chronic \",filtered_df['Dismissal Reason'].where((filtered_df['Dismissal Reason']==\"No longer meets population criteria\")&(filtered_df['Chronic Status']=='Yes')).count())\n",
    "print(\"Chronic Veterans \",filtered_df['Dismissal Reason'].where((filtered_df['Dismissal Reason']==\"No longer meets population criteria\")&(filtered_df['Chronic Status']=='Yes')&(filtered_df['Veteran Status']=='Yes')).count())\n",
    "print(\"Youth \",filtered_df['Dismissal Reason'].where((filtered_df['Dismissal Reason']==\"No longer meets population criteria\")&(filtered_df['Household Type']=='Youth')).count())\n",
    "print(\"Families \",filtered_df['Dismissal Reason'].where((filtered_df['Dismissal Reason']==\"No longer meets population criteria\")&(filtered_df['Household Type']=='Families')).count())"
   ]
  },
  {
   "cell_type": "code",
   "execution_count": 15,
   "metadata": {},
   "outputs": [
    {
     "name": "stdout",
     "output_type": "stream",
     "text": [
      "Actively Homeless  37\n",
      "Housing Placements  2\n",
      "Moved to Inactive  0\n",
      "Newly Identified Inflow  0\n",
      "Average Length of Time from ID to Housing Placement  184.5\n"
     ]
    }
   ],
   "source": [
    "##Step 12, Calculate BFZ Reporting Metrics to make sure numbers match\n",
    "print(\"Actively Homeless \", filtered_df['Client ID'].where(filtered_df['Program End Date'].isnull()==True).nunique())\n",
    "print(\"Housing Placements \", filtered_df['Client ID'].where(filtered_df['Dismissal Reason']=='Housed').nunique())\n",
    "print(\"Moved to Inactive \", filtered_df['Client ID'].where(filtered_df['Dismissal Reason']=='Inactive').nunique())\n",
    "def newly_identified_number():\n",
    "    nin = {}\n",
    "    for i in filtered_df['Client ID']:\n",
    "        if i not in nin:\n",
    "            nin[i] = False\n",
    "    for j in nin:\n",
    "        for k in filtered_df[filtered_df['Client ID']==j]['Date of Identification']:\n",
    "            if k.year == reporting_date.year and k.month == reporting_date.month:\n",
    "                nin[j] = True\n",
    "    nin_counter = 0\n",
    "    for x in nin:\n",
    "        if x == True:\n",
    "            nin_counter += 1\n",
    "    return nin_counter\n",
    "print(\"Newly Identified Inflow \",newly_identified_number())\n",
    "def housing_lot():\n",
    "    housed = filtered_df[filtered_df['Dismissal Reason']=='Housed']\n",
    "    lot = [(housed.loc[i,'Program End Date'] - housed.loc[i,'Date of Identification']) for i in housed.index]\n",
    "    average = 0\n",
    "    for i in lot:\n",
    "        average += i.days\n",
    "    return average/len(lot)\n",
    "print(\"Average Length of Time from ID to Housing Placement \",housing_lot())"
   ]
  },
  {
   "cell_type": "code",
   "execution_count": null,
   "metadata": {},
   "outputs": [],
   "source": [
    "#filtered_df.to_csv(\"Test.csv\")"
   ]
  }
 ],
 "metadata": {
  "interpreter": {
   "hash": "c7a650d791d0a1d035b66682f8967f04fed3045153a1ba3c3bfeefd2541b18a6"
  },
  "kernelspec": {
   "display_name": "Python 3.8.3 64-bit",
   "language": "python",
   "name": "python3"
  },
  "language_info": {
   "codemirror_mode": {
    "name": "ipython",
    "version": 3
   },
   "file_extension": ".py",
   "mimetype": "text/x-python",
   "name": "python",
   "nbconvert_exporter": "python",
   "pygments_lexer": "ipython3",
   "version": "3.8.3"
  },
  "orig_nbformat": 4
 },
 "nbformat": 4,
 "nbformat_minor": 2
}
